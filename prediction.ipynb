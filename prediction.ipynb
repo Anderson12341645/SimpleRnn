{
 "cells": [
  {
   "cell_type": "code",
   "execution_count": 1,
   "id": "e103fac9",
   "metadata": {},
   "outputs": [],
   "source": [
    "import numpy as np\n",
    "import tensorflow as tf\n",
    "from tensorflow.keras.datasets import imdb\n",
    "from tensorflow.keras.preprocessing import sequence\n",
    "from tensorflow.keras.models import load_model"
   ]
  },
  {
   "cell_type": "code",
   "execution_count": 2,
   "id": "3d194f36",
   "metadata": {},
   "outputs": [],
   "source": [
    "## Load the IMDB dataset\n",
    "word_index = imdb.get_word_index()\n",
    "reverse_word_index = {value: key for (key, value) in word_index.items()}"
   ]
  },
  {
   "cell_type": "code",
   "execution_count": 4,
   "id": "5ccbc0e3",
   "metadata": {},
   "outputs": [
    {
     "name": "stderr",
     "output_type": "stream",
     "text": [
      "WARNING:absl:Compiled the loaded model, but the compiled metrics have yet to be built. `model.compile_metrics` will be empty until you train or evaluate the model.\n"
     ]
    },
    {
     "data": {
      "text/html": [
       "<pre style=\"white-space:pre;overflow-x:auto;line-height:normal;font-family:Menlo,'DejaVu Sans Mono',consolas,'Courier New',monospace\"><span style=\"font-weight: bold\">Model: \"sequential_3\"</span>\n",
       "</pre>\n"
      ],
      "text/plain": [
       "\u001b[1mModel: \"sequential_3\"\u001b[0m\n"
      ]
     },
     "metadata": {},
     "output_type": "display_data"
    },
    {
     "data": {
      "text/html": [
       "<pre style=\"white-space:pre;overflow-x:auto;line-height:normal;font-family:Menlo,'DejaVu Sans Mono',consolas,'Courier New',monospace\">┏━━━━━━━━━━━━━━━━━━━━━━━━━━━━━━━━━┳━━━━━━━━━━━━━━━━━━━━━━━━┳━━━━━━━━━━━━━━━┓\n",
       "┃<span style=\"font-weight: bold\"> Layer (type)                    </span>┃<span style=\"font-weight: bold\"> Output Shape           </span>┃<span style=\"font-weight: bold\">       Param # </span>┃\n",
       "┡━━━━━━━━━━━━━━━━━━━━━━━━━━━━━━━━━╇━━━━━━━━━━━━━━━━━━━━━━━━╇━━━━━━━━━━━━━━━┩\n",
       "│ embedding_5 (<span style=\"color: #0087ff; text-decoration-color: #0087ff\">Embedding</span>)         │ (<span style=\"color: #00af00; text-decoration-color: #00af00\">32</span>, <span style=\"color: #00af00; text-decoration-color: #00af00\">500</span>, <span style=\"color: #00af00; text-decoration-color: #00af00\">128</span>)         │     <span style=\"color: #00af00; text-decoration-color: #00af00\">1,280,000</span> │\n",
       "├─────────────────────────────────┼────────────────────────┼───────────────┤\n",
       "│ simple_rnn_3 (<span style=\"color: #0087ff; text-decoration-color: #0087ff\">SimpleRNN</span>)        │ (<span style=\"color: #00af00; text-decoration-color: #00af00\">32</span>, <span style=\"color: #00af00; text-decoration-color: #00af00\">128</span>)              │        <span style=\"color: #00af00; text-decoration-color: #00af00\">32,896</span> │\n",
       "├─────────────────────────────────┼────────────────────────┼───────────────┤\n",
       "│ dense_3 (<span style=\"color: #0087ff; text-decoration-color: #0087ff\">Dense</span>)                 │ (<span style=\"color: #00af00; text-decoration-color: #00af00\">32</span>, <span style=\"color: #00af00; text-decoration-color: #00af00\">1</span>)                │           <span style=\"color: #00af00; text-decoration-color: #00af00\">129</span> │\n",
       "└─────────────────────────────────┴────────────────────────┴───────────────┘\n",
       "</pre>\n"
      ],
      "text/plain": [
       "┏━━━━━━━━━━━━━━━━━━━━━━━━━━━━━━━━━┳━━━━━━━━━━━━━━━━━━━━━━━━┳━━━━━━━━━━━━━━━┓\n",
       "┃\u001b[1m \u001b[0m\u001b[1mLayer (type)                   \u001b[0m\u001b[1m \u001b[0m┃\u001b[1m \u001b[0m\u001b[1mOutput Shape          \u001b[0m\u001b[1m \u001b[0m┃\u001b[1m \u001b[0m\u001b[1m      Param #\u001b[0m\u001b[1m \u001b[0m┃\n",
       "┡━━━━━━━━━━━━━━━━━━━━━━━━━━━━━━━━━╇━━━━━━━━━━━━━━━━━━━━━━━━╇━━━━━━━━━━━━━━━┩\n",
       "│ embedding_5 (\u001b[38;5;33mEmbedding\u001b[0m)         │ (\u001b[38;5;34m32\u001b[0m, \u001b[38;5;34m500\u001b[0m, \u001b[38;5;34m128\u001b[0m)         │     \u001b[38;5;34m1,280,000\u001b[0m │\n",
       "├─────────────────────────────────┼────────────────────────┼───────────────┤\n",
       "│ simple_rnn_3 (\u001b[38;5;33mSimpleRNN\u001b[0m)        │ (\u001b[38;5;34m32\u001b[0m, \u001b[38;5;34m128\u001b[0m)              │        \u001b[38;5;34m32,896\u001b[0m │\n",
       "├─────────────────────────────────┼────────────────────────┼───────────────┤\n",
       "│ dense_3 (\u001b[38;5;33mDense\u001b[0m)                 │ (\u001b[38;5;34m32\u001b[0m, \u001b[38;5;34m1\u001b[0m)                │           \u001b[38;5;34m129\u001b[0m │\n",
       "└─────────────────────────────────┴────────────────────────┴───────────────┘\n"
      ]
     },
     "metadata": {},
     "output_type": "display_data"
    },
    {
     "data": {
      "text/html": [
       "<pre style=\"white-space:pre;overflow-x:auto;line-height:normal;font-family:Menlo,'DejaVu Sans Mono',consolas,'Courier New',monospace\"><span style=\"font-weight: bold\"> Total params: </span><span style=\"color: #00af00; text-decoration-color: #00af00\">1,313,027</span> (5.01 MB)\n",
       "</pre>\n"
      ],
      "text/plain": [
       "\u001b[1m Total params: \u001b[0m\u001b[38;5;34m1,313,027\u001b[0m (5.01 MB)\n"
      ]
     },
     "metadata": {},
     "output_type": "display_data"
    },
    {
     "data": {
      "text/html": [
       "<pre style=\"white-space:pre;overflow-x:auto;line-height:normal;font-family:Menlo,'DejaVu Sans Mono',consolas,'Courier New',monospace\"><span style=\"font-weight: bold\"> Trainable params: </span><span style=\"color: #00af00; text-decoration-color: #00af00\">1,313,025</span> (5.01 MB)\n",
       "</pre>\n"
      ],
      "text/plain": [
       "\u001b[1m Trainable params: \u001b[0m\u001b[38;5;34m1,313,025\u001b[0m (5.01 MB)\n"
      ]
     },
     "metadata": {},
     "output_type": "display_data"
    },
    {
     "data": {
      "text/html": [
       "<pre style=\"white-space:pre;overflow-x:auto;line-height:normal;font-family:Menlo,'DejaVu Sans Mono',consolas,'Courier New',monospace\"><span style=\"font-weight: bold\"> Non-trainable params: </span><span style=\"color: #00af00; text-decoration-color: #00af00\">0</span> (0.00 B)\n",
       "</pre>\n"
      ],
      "text/plain": [
       "\u001b[1m Non-trainable params: \u001b[0m\u001b[38;5;34m0\u001b[0m (0.00 B)\n"
      ]
     },
     "metadata": {},
     "output_type": "display_data"
    },
    {
     "data": {
      "text/html": [
       "<pre style=\"white-space:pre;overflow-x:auto;line-height:normal;font-family:Menlo,'DejaVu Sans Mono',consolas,'Courier New',monospace\"><span style=\"font-weight: bold\"> Optimizer params: </span><span style=\"color: #00af00; text-decoration-color: #00af00\">2</span> (12.00 B)\n",
       "</pre>\n"
      ],
      "text/plain": [
       "\u001b[1m Optimizer params: \u001b[0m\u001b[38;5;34m2\u001b[0m (12.00 B)\n"
      ]
     },
     "metadata": {},
     "output_type": "display_data"
    }
   ],
   "source": [
    "## Load the pre-trained model with ReLU activation\n",
    "model = load_model('simple_rnn_imdb.h5')\n",
    "model.summary()"
   ]
  },
  {
   "cell_type": "code",
   "execution_count": 5,
   "metadata": {},
   "outputs": [
    {
     "data": {
      "text/plain": [
       "[array([[-0.10245067, -0.10318045,  0.02662142, ...,  0.09254756,\n",
       "          0.10560288,  0.14707708],\n",
       "        [ 0.00203084,  0.00727019,  0.01069789, ..., -0.05076531,\n",
       "          0.02431109, -0.00272467],\n",
       "        [ 0.00288568,  0.01633355,  0.01006767, ..., -0.01368749,\n",
       "          0.00199163, -0.00210978],\n",
       "        ...,\n",
       "        [ 0.11307296, -0.03506139,  0.06204358, ...,  0.02545578,\n",
       "         -0.01979521, -0.08284529],\n",
       "        [ 0.08922381,  0.14603566,  0.01967707, ..., -0.01129302,\n",
       "         -0.13691773,  0.03404265],\n",
       "        [ 0.12840943,  0.01095682,  0.08242515, ...,  0.06359231,\n",
       "          0.04473339, -0.10917064]], shape=(10000, 128), dtype=float32),\n",
       " array([[ 0.05022268,  0.02322162, -0.1062016 , ...,  0.10950192,\n",
       "          0.01260027,  0.11737391],\n",
       "        [ 0.07788058, -0.027357  ,  0.03693758, ...,  0.14749336,\n",
       "          0.05067296, -0.03313581],\n",
       "        [ 0.00389513,  0.1209899 , -0.1623251 , ...,  0.15680784,\n",
       "         -0.0880535 , -0.12142792],\n",
       "        ...,\n",
       "        [ 0.14554632, -0.09798503,  0.07583246, ...,  0.00997781,\n",
       "         -0.10843124, -0.03391267],\n",
       "        [ 0.133388  , -0.038303  ,  0.06580695, ...,  0.02641651,\n",
       "         -0.11597782, -0.11495617],\n",
       "        [-0.1424563 ,  0.05382463, -0.07321978, ...,  0.12951325,\n",
       "          0.08559286,  0.01628485]], shape=(128, 128), dtype=float32),\n",
       " array([[ 0.08073525,  0.09722397,  0.14401336, ..., -0.0644323 ,\n",
       "         -0.03295496, -0.01020535],\n",
       "        [ 0.06795644,  0.26012427,  0.13220198, ...,  0.01518014,\n",
       "          0.01183127,  0.18514702],\n",
       "        [ 0.03604262, -0.07546678, -0.21494198, ...,  0.02005199,\n",
       "         -0.01534671,  0.00656579],\n",
       "        ...,\n",
       "        [ 0.13362344,  0.09965611, -0.0504018 , ...,  0.04201447,\n",
       "          0.05262732, -0.0755268 ],\n",
       "        [ 0.1025904 ,  0.05446729,  0.09295142, ..., -0.18562253,\n",
       "         -0.10837825,  0.01200548],\n",
       "        [ 0.05837377,  0.2117668 , -0.13306221, ...,  0.02996994,\n",
       "          0.03951848,  0.04186376]], shape=(128, 128), dtype=float32),\n",
       " array([ 0.01257711,  0.01346198,  0.00697405, -0.01509183,  0.02360003,\n",
       "         0.00434258, -0.01310649, -0.00745139,  0.00082557, -0.02361303,\n",
       "         0.02877101, -0.00481506,  0.00770687, -0.00907444, -0.00123724,\n",
       "        -0.00288151,  0.0037973 ,  0.00956668, -0.0024447 , -0.01939584,\n",
       "        -0.01028582, -0.00812025, -0.01373028, -0.01249579, -0.00336652,\n",
       "        -0.00848742, -0.00982916, -0.02983327,  0.0182231 , -0.00537312,\n",
       "        -0.03347878, -0.01355071,  0.02158715, -0.00363417, -0.00851877,\n",
       "         0.02389399,  0.01438298,  0.00554082,  0.008601  , -0.0002877 ,\n",
       "        -0.00737753,  0.00878314,  0.01243499,  0.00951734, -0.00949386,\n",
       "         0.0253141 ,  0.00496438, -0.01094429, -0.01210587, -0.00586925,\n",
       "        -0.00748554,  0.01296566, -0.00383919,  0.02195511, -0.00031616,\n",
       "         0.02279158, -0.02010609, -0.02102734, -0.01506214,  0.0169104 ,\n",
       "        -0.00074342, -0.00928313,  0.02090969, -0.00010377,  0.00975251,\n",
       "        -0.01083929, -0.00950405, -0.0107414 , -0.00501714,  0.01585854,\n",
       "         0.0235505 , -0.01017446, -0.0106454 ,  0.0071538 ,  0.00243738,\n",
       "         0.02129612,  0.02193228,  0.00250969,  0.00745961, -0.01442403,\n",
       "        -0.00828385, -0.00282005,  0.01635231,  0.00280126, -0.0084972 ,\n",
       "         0.00614156, -0.01134772, -0.00541196,  0.0035265 , -0.02472705,\n",
       "         0.00625036,  0.02033656,  0.00390635,  0.01243851,  0.02139889,\n",
       "        -0.01340152,  0.00417346,  0.00525295, -0.01081246, -0.00621864,\n",
       "        -0.013702  ,  0.000792  ,  0.01199625, -0.0093022 , -0.05186782,\n",
       "         0.00686141, -0.02582605, -0.0133731 , -0.00558328, -0.00191827,\n",
       "        -0.02300825, -0.01109999, -0.00566644, -0.01440829,  0.00203284,\n",
       "         0.01341396,  0.01626472, -0.01297979,  0.00036688, -0.01296875,\n",
       "         0.01845006, -0.01852643, -0.01510398, -0.02102912, -0.03006622,\n",
       "        -0.01306122, -0.01414288,  0.01327734], dtype=float32),\n",
       " array([[ 1.64607149e-02],\n",
       "        [ 1.94457754e-01],\n",
       "        [-6.01115584e-01],\n",
       "        [ 2.79783476e-02],\n",
       "        [ 1.18253328e-01],\n",
       "        [-1.22799370e-02],\n",
       "        [ 1.72279149e-01],\n",
       "        [-9.62769315e-02],\n",
       "        [-1.44491628e-01],\n",
       "        [ 3.46646458e-01],\n",
       "        [ 1.30223125e-01],\n",
       "        [-1.49652407e-01],\n",
       "        [-1.34822607e-01],\n",
       "        [-1.37655765e-01],\n",
       "        [-6.58881068e-01],\n",
       "        [ 4.46814448e-02],\n",
       "        [-1.95761725e-01],\n",
       "        [ 1.76750258e-01],\n",
       "        [-8.72454345e-02],\n",
       "        [ 1.71751231e-01],\n",
       "        [ 1.55845005e-03],\n",
       "        [-2.29398042e-01],\n",
       "        [-2.22999290e-01],\n",
       "        [-5.29747009e-01],\n",
       "        [-1.50461450e-01],\n",
       "        [ 5.01732267e-02],\n",
       "        [ 1.65874511e-02],\n",
       "        [-1.16391525e-01],\n",
       "        [-8.70472491e-02],\n",
       "        [-1.84426939e+00],\n",
       "        [-1.89793974e-01],\n",
       "        [-1.21346436e-01],\n",
       "        [ 1.37971133e-01],\n",
       "        [ 8.29075500e-02],\n",
       "        [-2.09671125e-01],\n",
       "        [ 2.05765665e-01],\n",
       "        [ 3.40986922e-02],\n",
       "        [ 5.49921989e-02],\n",
       "        [ 1.68182507e-01],\n",
       "        [ 2.11123139e-01],\n",
       "        [-2.28986725e-01],\n",
       "        [-1.83380556e+00],\n",
       "        [ 2.57729236e-02],\n",
       "        [ 1.51808500e-01],\n",
       "        [-5.62169492e-01],\n",
       "        [ 1.88391536e-01],\n",
       "        [-6.56547070e-01],\n",
       "        [-1.94749415e-01],\n",
       "        [-1.87167585e-01],\n",
       "        [ 8.83431137e-02],\n",
       "        [-1.03251243e+00],\n",
       "        [ 1.87632576e-01],\n",
       "        [-2.28951663e-01],\n",
       "        [-1.15752565e-02],\n",
       "        [-2.15264082e-01],\n",
       "        [ 2.19987184e-01],\n",
       "        [-1.57404259e-01],\n",
       "        [ 5.02592586e-02],\n",
       "        [ 5.19371890e-02],\n",
       "        [ 4.03182469e-02],\n",
       "        [-1.09280935e-02],\n",
       "        [-2.26778612e-01],\n",
       "        [ 6.52048439e-02],\n",
       "        [ 1.18671656e-01],\n",
       "        [-1.97208300e-01],\n",
       "        [-1.00441471e-01],\n",
       "        [ 1.21181197e-01],\n",
       "        [-3.32887173e-02],\n",
       "        [ 1.27427533e-01],\n",
       "        [ 5.65379076e-02],\n",
       "        [ 6.30773604e-02],\n",
       "        [-2.14679539e-01],\n",
       "        [-1.31947711e-01],\n",
       "        [-1.56850922e+00],\n",
       "        [-1.83816418e-01],\n",
       "        [ 9.78602245e-02],\n",
       "        [ 8.31095874e-02],\n",
       "        [-1.72580704e-01],\n",
       "        [-8.35702717e-02],\n",
       "        [-1.11073233e-01],\n",
       "        [-1.27312973e-01],\n",
       "        [-1.67598531e-01],\n",
       "        [ 1.78740516e-01],\n",
       "        [ 1.74160734e-01],\n",
       "        [-1.70045644e-01],\n",
       "        [-4.19324785e-02],\n",
       "        [-2.12522015e-01],\n",
       "        [ 9.68189090e-02],\n",
       "        [ 6.86376169e-02],\n",
       "        [-1.58435367e-02],\n",
       "        [-1.71498448e-01],\n",
       "        [ 2.08669841e-01],\n",
       "        [-2.51778327e-02],\n",
       "        [-5.56710130e-03],\n",
       "        [ 3.28555219e-02],\n",
       "        [ 1.89535677e-01],\n",
       "        [-1.95196331e-01],\n",
       "        [-2.90211260e-01],\n",
       "        [ 4.60499339e-02],\n",
       "        [-4.81710136e-02],\n",
       "        [-1.26144201e-01],\n",
       "        [-5.95012866e-02],\n",
       "        [-1.57268569e-01],\n",
       "        [-9.60838348e-02],\n",
       "        [-4.14458275e-01],\n",
       "        [-1.75890718e-02],\n",
       "        [ 7.15418011e-02],\n",
       "        [-1.91689968e-01],\n",
       "        [-4.07319143e-02],\n",
       "        [ 3.47243287e-02],\n",
       "        [-7.43541354e-03],\n",
       "        [-1.20968819e-01],\n",
       "        [-1.49862170e-01],\n",
       "        [-2.06029534e-01],\n",
       "        [ 2.89914548e-01],\n",
       "        [ 1.64044693e-01],\n",
       "        [ 1.89024359e-01],\n",
       "        [-2.19859421e-01],\n",
       "        [-2.08035987e-02],\n",
       "        [-1.65927812e-01],\n",
       "        [ 5.57972081e-02],\n",
       "        [-6.50465116e-02],\n",
       "        [-4.34659980e-02],\n",
       "        [-1.65924683e-01],\n",
       "        [-1.28027707e-01],\n",
       "        [-7.76696384e-01],\n",
       "        [-1.91228971e-01],\n",
       "        [ 2.09954992e-01]], dtype=float32),\n",
       " array([-1.2931966], dtype=float32)]"
      ]
     },
     "execution_count": 5,
     "metadata": {},
     "output_type": "execute_result"
    }
   ],
   "source": [
    "model.get_weights()"
   ]
  },
  {
   "cell_type": "code",
   "execution_count": 7,
   "id": "17f39aee",
   "metadata": {},
   "outputs": [],
   "source": [
    "# Step 2: Helper Functions for Decoding and Prediction\n",
    "def decode_review(text):\n",
    "    return ' '.join([reverse_word_index.get(i - 3, '?') for i in text])\n",
    "\n",
    "## Function to preprocess user input\n",
    "def preprocess_text(text, maxlen=500):\n",
    "    words = text.lower().split()\n",
    "    encoded_review = [word_index.get(word, 2) + 3 for word in words]  # 2 is for unknown words\n",
    "    padded_review = sequence.pad_sequences([encoded_review], maxlen=maxlen)\n",
    "    return padded_review"
   ]
  },
  {
   "cell_type": "code",
   "execution_count": 11,
   "id": "7661db75",
   "metadata": {},
   "outputs": [],
   "source": [
    "## Prediction function\n",
    "\n",
    "def predict_sentiment(review):\n",
    "    preprocessed_input = preprocess_text(review)\n",
    "\n",
    "    prediction = model.predict(preprocessed_input)\n",
    "    sentiment = \"Positive\" if prediction[0][0] > 0.5 else \"Negative\"\n",
    "    return sentiment, prediction[0][0]"
   ]
  },
  {
   "cell_type": "code",
   "execution_count": 15,
   "id": "4da2c837",
   "metadata": {},
   "outputs": [
    {
     "name": "stdout",
     "output_type": "stream",
     "text": [
      "\u001b[1m1/1\u001b[0m \u001b[32m━━━━━━━━━━━━━━━━━━━━\u001b[0m\u001b[37m\u001b[0m \u001b[1m0s\u001b[0m 43ms/step\n",
      "Review: The movie was wonderful with stunning visuals and a gripping plot.\n",
      "Sentiment: Positive\n",
      "Prediction Score: 0.8579064011573792\n"
     ]
    }
   ],
   "source": [
    "## Step 4: User Input and Prediction\n",
    "\n",
    "example_review = \"The movie was wonderful with stunning visuals and a gripping plot.\"\n",
    "sentiment, confidence = predict_sentiment(example_review)\n",
    "\n",
    "print(f\"Review: {example_review}\")\n",
    "print(f'Sentiment: {sentiment}')\n",
    "print(f'Prediction Score: {confidence}')"
   ]
  },
  {
   "cell_type": "code",
   "execution_count": null,
   "id": "6c062416",
   "metadata": {},
   "outputs": [],
   "source": []
  },
  {
   "cell_type": "code",
   "execution_count": null,
   "id": "add5697a",
   "metadata": {},
   "outputs": [],
   "source": []
  },
  {
   "cell_type": "code",
   "execution_count": null,
   "metadata": {},
   "outputs": [],
   "source": []
  },
  {
   "cell_type": "code",
   "execution_count": null,
   "metadata": {},
   "outputs": [],
   "source": []
  },
  {
   "cell_type": "code",
   "execution_count": null,
   "id": "beb03c32",
   "metadata": {},
   "outputs": [],
   "source": []
  }
 ],
 "metadata": {
  "kernelspec": {
   "display_name": "venv",
   "language": "python",
   "name": "python3"
  },
  "language_info": {
   "codemirror_mode": {
    "name": "ipython",
    "version": 3
   },
   "file_extension": ".py",
   "mimetype": "text/x-python",
   "name": "python",
   "nbconvert_exporter": "python",
   "pygments_lexer": "ipython3",
   "version": "3.12.0"
  }
 },
 "nbformat": 4,
 "nbformat_minor": 5
}
